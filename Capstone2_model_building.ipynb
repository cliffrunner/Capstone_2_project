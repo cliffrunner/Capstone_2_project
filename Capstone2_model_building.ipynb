{
 "cells": [
  {
   "cell_type": "markdown",
   "metadata": {
    "colab_type": "text",
    "id": "I91ns5cnSWfy"
   },
   "source": [
    "# Model Building\n",
    "To answer the following questions:\n",
    "1. how do behaviors affect mental health (depressive disorder)?\n",
    "2. how do behaviors (and other illness, especially mental illness) affect chance of getting cancer?"
   ]
  },
  {
   "cell_type": "code",
   "execution_count": 2,
   "metadata": {
    "colab": {},
    "colab_type": "code",
    "id": "XaeTKdXVSWf0"
   },
   "outputs": [],
   "source": [
    "import numpy as np\n",
    "import pandas as pd\n",
    "import matplotlib.pyplot as plt\n",
    "from collections import Counter\n",
    "# from sklearn.impute import SimpleImputer\n",
    "from scipy import stats\n",
    "plt.style.use('ggplot')"
   ]
  },
  {
   "cell_type": "code",
   "execution_count": 68,
   "metadata": {
    "colab": {},
    "colab_type": "code",
    "id": "KT4RzsQ-SWf4"
   },
   "outputs": [],
   "source": [
    "path = \"C:/Users/yao_p/Downloads/behavioral-risk-factor-surveillance-system/2015.csv\"\n",
    "df = pd.read_csv(path)"
   ]
  },
  {
   "cell_type": "code",
   "execution_count": 69,
   "metadata": {
    "colab": {},
    "colab_type": "code",
    "id": "Qe7A7W9iSWf7"
   },
   "outputs": [],
   "source": [
    "bh_factor = ['_INCOMG','MARITAL','_AGEG5YR','EDUCA','_PA150R2','_PA300R2','_PAREC1','_RFBING5','_RFSMOK3','_BMI5CAT']\n",
    "illness = ['ADDEPEV2','DIABETE3','CHCKIDNY','CHCSCNCR','CHCOCNCR']\n",
    "\n",
    "df_bh = df[bh_factor+illness]"
   ]
  },
  {
   "cell_type": "code",
   "execution_count": 70,
   "metadata": {
    "colab": {},
    "colab_type": "code",
    "id": "n38SarQeSWf-",
    "outputId": "64937683-a46a-43c7-e712-0c2246610da1",
    "scrolled": true
   },
   "outputs": [
    {
     "name": "stderr",
     "output_type": "stream",
     "text": [
      "C:\\Users\\yao_p\\Anaconda3\\lib\\site-packages\\pandas\\core\\generic.py:5890: SettingWithCopyWarning: \n",
      "A value is trying to be set on a copy of a slice from a DataFrame\n",
      "\n",
      "See the caveats in the documentation: http://pandas.pydata.org/pandas-docs/stable/indexing.html#indexing-view-versus-copy\n",
      "  self._update_inplace(new_data)\n",
      "C:\\Users\\yao_p\\Anaconda3\\lib\\site-packages\\ipykernel_launcher.py:30: SettingWithCopyWarning: \n",
      "A value is trying to be set on a copy of a slice from a DataFrame\n",
      "\n",
      "See the caveats in the documentation: http://pandas.pydata.org/pandas-docs/stable/indexing.html#indexing-view-versus-copy\n"
     ]
    }
   ],
   "source": [
    "df_bh['_INCOMG'].replace(to_replace=9, value=np.nan, inplace=True)\n",
    "df_bh['MARITAL'].replace(to_replace=9, value=np.nan, inplace=True)\n",
    "df_bh['_AGEG5YR'].replace(to_replace=14, value=np.nan, inplace=True)\n",
    "df_bh['EDUCA'].replace(to_replace=9, value=np.nan, inplace=True)\n",
    "df_bh['_PA150R2'].replace(to_replace=9, value=np.nan, inplace=True)\n",
    "df_bh['_PA300R2'].replace(to_replace=9, value=np.nan, inplace=True)\n",
    "df_bh['_PAREC1'].replace(to_replace=9, value=np.nan, inplace=True)\n",
    "df_bh['_RFBING5'].replace(to_replace=9, value=np.nan, inplace=True)\n",
    "df_bh['_RFSMOK3'].replace(to_replace=9, value=np.nan, inplace=True)\n",
    "df_bh['_BMI5CAT'].replace(to_replace=5, value=np.nan, inplace=True)\n",
    "\n",
    "df_bh['ADDEPEV2'].replace(to_replace=7, value=np.nan, inplace=True)\n",
    "df_bh['ADDEPEV2'].replace(to_replace=9, value=np.nan, inplace=True)\n",
    "\n",
    "df_bh['DIABETE3'].replace(to_replace=7, value=np.nan, inplace=True)\n",
    "df_bh['DIABETE3'].replace(to_replace=9, value=np.nan, inplace=True)\n",
    "df_bh['DIABETE3'].replace(to_replace=2, value=1, inplace=True)\n",
    "df_bh['DIABETE3'].replace(to_replace=3, value=2, inplace=True)\n",
    "df_bh['DIABETE3'].replace(to_replace=4, value=2, inplace=True)\n",
    "\n",
    "df_bh['CHCKIDNY'].replace(to_replace=7, value=np.nan, inplace=True)\n",
    "df_bh['CHCKIDNY'].replace(to_replace=9, value=np.nan, inplace=True)\n",
    "\n",
    "df_bh['CHCSCNCR'].replace(to_replace=7, value=np.nan, inplace=True)\n",
    "df_bh['CHCSCNCR'].replace(to_replace=9, value=np.nan, inplace=True)\n",
    "\n",
    "df_bh['CHCOCNCR'].replace(to_replace=7, value=np.nan, inplace=True)\n",
    "df_bh['CHCOCNCR'].replace(to_replace=9, value=np.nan, inplace=True)\n",
    "\n",
    "df_bh.dropna(inplace=True)\n",
    "df_bh.reset_index(drop=True, inplace=True)"
   ]
  },
  {
   "cell_type": "code",
   "execution_count": 75,
   "metadata": {
    "colab": {},
    "colab_type": "code",
    "id": "w6PpdFnLSWgD"
   },
   "outputs": [],
   "source": [
    "df_bh.columns = ['income',\n",
    "                'marriage_status',\n",
    "                'age_cat',\n",
    "                'edu',\n",
    "                'exercise_cat150', \n",
    "                'exercise_cat300',\n",
    "                'exercise_guide',\n",
    "                'binge',\n",
    "                'smoke',\n",
    "                'bmi_cat',\n",
    "                'depress_disorder',\n",
    "                'diabetes',\n",
    "                'kidney',\n",
    "                'skin_cancer',\n",
    "                'other_cancer',\n",
    "                ]\n",
    "\n",
    "income_dict = {1:'<15,000',\n",
    "              2:'>15,000 and < 25,000',\n",
    "              3:'>25,000 and < 35,000',\n",
    "              4:'>35,000 and <50,000',\n",
    "              5:'>50,000',\n",
    "              9:\"don't know/not sure/missing\"}\n",
    "\n",
    "smoke_dict = {1:'no',\n",
    "             2:'yes',\n",
    "             9:\"don't know/refused/missing\"}\n",
    "\n",
    "binge_dict = {1:'no',\n",
    "             2:'yes',\n",
    "             9:\"don't know/refused/missing\"}\n",
    "\n",
    "m150_dict = {1:'more than 150 min',\n",
    "            2:'less than 150 min',\n",
    "            3:'0 min',\n",
    "            9:\"don't know/not sure/refused/missing\"}\n",
    "\n",
    "m300_dict = {1:'more than 300 min',\n",
    "            2:'less than 300 min',\n",
    "            3:'0 min',\n",
    "            9:\"don't know/not sure/refused/missing\"}\n",
    "\n",
    "guide_dict = {1:'meet both',\n",
    "            2:'meet aerobic guideline only',\n",
    "            3:'meet strengthening guideline only',\n",
    "            4:'meet neigher',\n",
    "            9:\"don't know/not sure/refused/missing\"}\n",
    "\n",
    "bmi_dict = {1:'underweight',\n",
    "           2:'normal weight',\n",
    "           3:'overweight',\n",
    "           4:'obese',\n",
    "           5:\"don't know/refused/missing\"}\n",
    "\n",
    "marr_dict = {1:'married',\n",
    "            2:'divorced',\n",
    "            3:'widowed',\n",
    "            4:'separated',\n",
    "            5:'never married',\n",
    "            6:'member of an unmarried couple',\n",
    "            9:'refused'}\n",
    "\n",
    "age_dict = {1:'18-24',\n",
    "           2:'25-29',\n",
    "           3:'30-34',\n",
    "           4:'35-39',\n",
    "           5:'40-44',\n",
    "           6:'45-49',\n",
    "           7:'50-54',\n",
    "           8:'55-59',\n",
    "           9:'60-64',\n",
    "           10:'65-69',\n",
    "           11:'70-74',\n",
    "           12:'75-79',\n",
    "           13:'80 and above',\n",
    "           14:\"don't know/refused/missing\"}\n",
    "\n",
    "edu_dict = {1:'never', \n",
    "            2:'elementary', \n",
    "            3:'some high school', \n",
    "            4:'high school grad', \n",
    "            5:'some college', \n",
    "            6:\"college grad\", \n",
    "            9:'refused'}\n",
    "\n",
    "depress_dict = {1:'yes',\n",
    "               2:'no',\n",
    "               7:\"don't know/not sure\",\n",
    "               9:'refused'}\n",
    "\n",
    "diab_dict = {1:'yes',\n",
    "            2:'yes, but female during pregnancy',\n",
    "            3:'no',\n",
    "            4:'no, pre- or border-diabetes',\n",
    "            7:\"don't know/not sure\",\n",
    "            9:'refused'}\n",
    "\n",
    "kidney_dict = {1:'yes',\n",
    "               2:'no',\n",
    "               7:\"don't know/not sure\",\n",
    "               9:'refused'}\n",
    "\n",
    "skin_dict = {1:'yes',\n",
    "            2:'no',\n",
    "            7:\"don't know\",\n",
    "            9:'refused'}\n",
    "\n",
    "other_cancer_dict = {1:'yes',\n",
    "            2:'no',\n",
    "            7:\"don't know\",\n",
    "            9:'refused'}"
   ]
  },
  {
   "cell_type": "code",
   "execution_count": 57,
   "metadata": {
    "colab": {},
    "colab_type": "code",
    "id": "8MxuObSWSWgF"
   },
   "outputs": [],
   "source": [
    "def change_label(series, dictionary):\n",
    "    temp = [dictionary[val] for val in series]\n",
    "    return pd.Series(temp)"
   ]
  },
  {
   "cell_type": "code",
   "execution_count": 58,
   "metadata": {
    "colab": {},
    "colab_type": "code",
    "id": "lvqCLHnfSWgI",
    "scrolled": true
   },
   "outputs": [
    {
     "name": "stderr",
     "output_type": "stream",
     "text": [
      "C:\\Users\\yao_p\\Anaconda3\\lib\\site-packages\\IPython\\core\\interactiveshell.py:2961: SettingWithCopyWarning: \n",
      "A value is trying to be set on a copy of a slice from a DataFrame\n",
      "\n",
      "See the caveats in the documentation: http://pandas.pydata.org/pandas-docs/stable/indexing.html#indexing-view-versus-copy\n",
      "  exec(code_obj, self.user_global_ns, self.user_ns)\n",
      "C:\\Users\\yao_p\\Anaconda3\\lib\\site-packages\\IPython\\core\\interactiveshell.py:2961: SettingWithCopyWarning: \n",
      "A value is trying to be set on a copy of a slice from a DataFrame\n",
      "\n",
      "See the caveats in the documentation: http://pandas.pydata.org/pandas-docs/stable/indexing.html#indexing-view-versus-copy\n",
      "  exec(code_obj, self.user_global_ns, self.user_ns)\n",
      "C:\\Users\\yao_p\\Anaconda3\\lib\\site-packages\\IPython\\core\\interactiveshell.py:2961: SettingWithCopyWarning: \n",
      "A value is trying to be set on a copy of a slice from a DataFrame\n",
      "\n",
      "See the caveats in the documentation: http://pandas.pydata.org/pandas-docs/stable/indexing.html#indexing-view-versus-copy\n",
      "  exec(code_obj, self.user_global_ns, self.user_ns)\n",
      "C:\\Users\\yao_p\\Anaconda3\\lib\\site-packages\\IPython\\core\\interactiveshell.py:2961: SettingWithCopyWarning: \n",
      "A value is trying to be set on a copy of a slice from a DataFrame\n",
      "\n",
      "See the caveats in the documentation: http://pandas.pydata.org/pandas-docs/stable/indexing.html#indexing-view-versus-copy\n",
      "  exec(code_obj, self.user_global_ns, self.user_ns)\n",
      "C:\\Users\\yao_p\\Anaconda3\\lib\\site-packages\\IPython\\core\\interactiveshell.py:2961: SettingWithCopyWarning: \n",
      "A value is trying to be set on a copy of a slice from a DataFrame\n",
      "\n",
      "See the caveats in the documentation: http://pandas.pydata.org/pandas-docs/stable/indexing.html#indexing-view-versus-copy\n",
      "  exec(code_obj, self.user_global_ns, self.user_ns)\n",
      "C:\\Users\\yao_p\\Anaconda3\\lib\\site-packages\\IPython\\core\\interactiveshell.py:2961: SettingWithCopyWarning: \n",
      "A value is trying to be set on a copy of a slice from a DataFrame\n",
      "\n",
      "See the caveats in the documentation: http://pandas.pydata.org/pandas-docs/stable/indexing.html#indexing-view-versus-copy\n",
      "  exec(code_obj, self.user_global_ns, self.user_ns)\n",
      "C:\\Users\\yao_p\\Anaconda3\\lib\\site-packages\\IPython\\core\\interactiveshell.py:2961: SettingWithCopyWarning: \n",
      "A value is trying to be set on a copy of a slice from a DataFrame\n",
      "\n",
      "See the caveats in the documentation: http://pandas.pydata.org/pandas-docs/stable/indexing.html#indexing-view-versus-copy\n",
      "  exec(code_obj, self.user_global_ns, self.user_ns)\n",
      "C:\\Users\\yao_p\\Anaconda3\\lib\\site-packages\\IPython\\core\\interactiveshell.py:2961: SettingWithCopyWarning: \n",
      "A value is trying to be set on a copy of a slice from a DataFrame\n",
      "\n",
      "See the caveats in the documentation: http://pandas.pydata.org/pandas-docs/stable/indexing.html#indexing-view-versus-copy\n",
      "  exec(code_obj, self.user_global_ns, self.user_ns)\n",
      "C:\\Users\\yao_p\\Anaconda3\\lib\\site-packages\\IPython\\core\\interactiveshell.py:2961: SettingWithCopyWarning: \n",
      "A value is trying to be set on a copy of a slice from a DataFrame\n",
      "\n",
      "See the caveats in the documentation: http://pandas.pydata.org/pandas-docs/stable/indexing.html#indexing-view-versus-copy\n",
      "  exec(code_obj, self.user_global_ns, self.user_ns)\n",
      "C:\\Users\\yao_p\\Anaconda3\\lib\\site-packages\\IPython\\core\\interactiveshell.py:2961: SettingWithCopyWarning: \n",
      "A value is trying to be set on a copy of a slice from a DataFrame\n",
      "\n",
      "See the caveats in the documentation: http://pandas.pydata.org/pandas-docs/stable/indexing.html#indexing-view-versus-copy\n",
      "  exec(code_obj, self.user_global_ns, self.user_ns)\n",
      "C:\\Users\\yao_p\\Anaconda3\\lib\\site-packages\\IPython\\core\\interactiveshell.py:2961: SettingWithCopyWarning: \n",
      "A value is trying to be set on a copy of a slice from a DataFrame\n",
      "\n",
      "See the caveats in the documentation: http://pandas.pydata.org/pandas-docs/stable/indexing.html#indexing-view-versus-copy\n",
      "  exec(code_obj, self.user_global_ns, self.user_ns)\n",
      "C:\\Users\\yao_p\\Anaconda3\\lib\\site-packages\\IPython\\core\\interactiveshell.py:2961: SettingWithCopyWarning: \n",
      "A value is trying to be set on a copy of a slice from a DataFrame\n",
      "\n",
      "See the caveats in the documentation: http://pandas.pydata.org/pandas-docs/stable/indexing.html#indexing-view-versus-copy\n",
      "  exec(code_obj, self.user_global_ns, self.user_ns)\n",
      "C:\\Users\\yao_p\\Anaconda3\\lib\\site-packages\\IPython\\core\\interactiveshell.py:2961: SettingWithCopyWarning: \n",
      "A value is trying to be set on a copy of a slice from a DataFrame\n",
      "\n",
      "See the caveats in the documentation: http://pandas.pydata.org/pandas-docs/stable/indexing.html#indexing-view-versus-copy\n",
      "  exec(code_obj, self.user_global_ns, self.user_ns)\n",
      "C:\\Users\\yao_p\\Anaconda3\\lib\\site-packages\\IPython\\core\\interactiveshell.py:2961: SettingWithCopyWarning: \n",
      "A value is trying to be set on a copy of a slice from a DataFrame\n",
      "\n",
      "See the caveats in the documentation: http://pandas.pydata.org/pandas-docs/stable/indexing.html#indexing-view-versus-copy\n",
      "  exec(code_obj, self.user_global_ns, self.user_ns)\n",
      "C:\\Users\\yao_p\\Anaconda3\\lib\\site-packages\\IPython\\core\\interactiveshell.py:2961: SettingWithCopyWarning: \n",
      "A value is trying to be set on a copy of a slice from a DataFrame\n",
      "\n",
      "See the caveats in the documentation: http://pandas.pydata.org/pandas-docs/stable/indexing.html#indexing-view-versus-copy\n",
      "  exec(code_obj, self.user_global_ns, self.user_ns)\n"
     ]
    }
   ],
   "source": [
    "df_bh['income'].update(change_label(df_bh['income'], income_dict))\n",
    "df_bh['marriage_status'].update(change_label(df_bh['marriage_status'], marr_dict))\n",
    "df_bh['age_cat'].update(change_label(df_bh['age_cat'], age_dict))\n",
    "df_bh['edu'].update(change_label(df_bh['edu'], edu_dict))\n",
    "df_bh['exercise_cat150'].update(change_label(df_bh['exercise_cat150'], m150_dict))\n",
    "df_bh['exercise_cat300'].update(change_label(df_bh['exercise_cat300'], m300_dict))\n",
    "df_bh['exercise_guide'].update(change_label(df_bh['exercise_guide'], guide_dict))\n",
    "df_bh['binge'].update(change_label(df_bh['binge'], binge_dict))\n",
    "df_bh['smoke'].update(change_label(df_bh['smoke'], smoke_dict))\n",
    "df_bh['bmi_cat'].update(change_label(df_bh['bmi_cat'], bmi_dict))\n",
    "df_bh['depress_disorder'].update(change_label(df_bh['depress_disorder'], depress_dict))\n",
    "df_bh['diabetes'].update(change_label(df_bh['diabetes'], diab_dict))\n",
    "df_bh['kidney'].update(change_label(df_bh['kidney'], kidney_dict))\n",
    "df_bh['skin_cancer'].update(change_label(df_bh['skin_cancer'], skin_dict))\n",
    "df_bh['other_cancer'].update(change_label(df_bh['other_cancer'], other_cancer_dict))"
   ]
  },
  {
   "cell_type": "code",
   "execution_count": 76,
   "metadata": {
    "colab": {},
    "colab_type": "code",
    "id": "ufU_uWN_SWgN"
   },
   "outputs": [],
   "source": [
    "df_bh.to_csv('cat_behavior_vs_depressive_discorder.csv', index=False)"
   ]
  },
  {
   "cell_type": "markdown",
   "metadata": {
    "colab_type": "text",
    "id": "XISGRWF5SWgQ"
   },
   "source": [
    "## Use Multiple classifier to predict despressive disorder from behaviors "
   ]
  },
  {
   "cell_type": "code",
   "execution_count": 1,
   "metadata": {
    "colab": {
     "base_uri": "https://localhost:8080/",
     "height": 34
    },
    "colab_type": "code",
    "executionInfo": {
     "elapsed": 215,
     "status": "ok",
     "timestamp": 1546033427523,
     "user": {
      "displayName": "Yao Peng",
      "photoUrl": "",
      "userId": "12020426918915651051"
     },
     "user_tz": 360
    },
    "id": "U5g98KIkSWgR",
    "outputId": "d8e8cdcf-c60f-4fad-bb99-bdb8f13b9fee"
   },
   "outputs": [],
   "source": [
    "import pandas as pd\n",
    "import numpy as np\n",
    "\n",
    "from sklearn.utils import shuffle\n",
    "from sklearn.svm import SVC\n",
    "from sklearn.linear_model import LogisticRegression\n",
    "from sklearn.tree import DecisionTreeClassifier\n",
    "from sklearn.ensemble import RandomForestClassifier, AdaBoostClassifier, VotingClassifier, GradientBoostingClassifier\n",
    "from sklearn.naive_bayes import GaussianNB\n",
    "from sklearn.model_selection import train_test_split\n",
    "from sklearn.preprocessing import OneHotEncoder\n",
    "from sklearn.metrics import confusion_matrix, recall_score, precision_score\n",
    "from sklearn.utils import resample\n",
    "\n",
    "\n",
    "# from google.colab import drive\n",
    "# drive.mount('/content/gdrive')"
   ]
  },
  {
   "cell_type": "code",
   "execution_count": 2,
   "metadata": {
    "colab": {},
    "colab_type": "code",
    "id": "21bvjHvLSWgT"
   },
   "outputs": [],
   "source": [
    "read_from_file = True\n",
    "if read_from_file:\n",
    "#     path = '/content/gdrive/My Drive/cat_behavior_vs_depressive_discorder.csv'\n",
    "    path = 'cat_behavior_vs_depressive_discorder.csv'\n",
    "    df_bh = pd.read_csv(path)\n",
    "else:\n",
    "    pass"
   ]
  },
  {
   "cell_type": "code",
   "execution_count": 3,
   "metadata": {
    "colab": {
     "base_uri": "https://localhost:8080/",
     "height": 34
    },
    "colab_type": "code",
    "executionInfo": {
     "elapsed": 428,
     "status": "ok",
     "timestamp": 1546037315253,
     "user": {
      "displayName": "Yao Peng",
      "photoUrl": "",
      "userId": "12020426918915651051"
     },
     "user_tz": 360
    },
    "id": "Ls9QgAKjSWgW",
    "outputId": "7360f705-f5b2-47f3-d688-ea0af24cd157",
    "scrolled": false
   },
   "outputs": [
    {
     "name": "stdout",
     "output_type": "stream",
     "text": [
      "size of X is: (542574, 48)\n"
     ]
    }
   ],
   "source": [
    "disease_label = ['other_cancer']\n",
    "disease_labels = ['depress_disorder','diabetes','kidney','skin_cancer','other_cancer']\n",
    "# behavior_labels = ['income','exercise_cat150','exercise_cat300','exercise_guide','bmi_cat']\n",
    "disease_labels.remove(disease_label[0])\n",
    "X = df_bh.drop(columns=disease_labels)\n",
    "# X = df_bh[df_bh['age_cat']>=8]\n",
    "# X = X[behavior_labels+disease_label]\n",
    "\n",
    "temp = X[disease_label[0]].value_counts()\n",
    "X_majority = X[X[disease_label[0]]==2]\n",
    "X_minority = X[X[disease_label[0]]==1]\n",
    "\n",
    "# upsample minority label or downsample majority label\n",
    "upsampled = True\n",
    "if upsampled:\n",
    "    X_minority_upsampled = resample(X_minority,\n",
    "                                    replace=True,\n",
    "                                    n_samples=temp.values[0],\n",
    "                                    random_state=123)\n",
    "    X_upsampled = pd.concat([X_majority, X_minority_upsampled])\n",
    "    X_upsampled = shuffle(X_upsampled)\n",
    "    y = X_upsampled[disease_label[0]]\n",
    "    X = X_upsampled.drop(columns=disease_label)\n",
    "else:\n",
    "    X_majority_downsampled = resample(X_majority,\n",
    "                                    replace=False,\n",
    "                                    n_samples=temp.values[1],\n",
    "                                    random_state=123)\n",
    "    X_downsampled = pd.concat([X_minority, X_majority_downsampled])\n",
    "    X_downsampled = shuffle(X_downsampled)\n",
    "    y = X_downsampled[disease_label[0]]\n",
    "    X = X_downsampled.drop(columns=disease_label)\n",
    "\n",
    "y[y==2.0] = 0\n",
    "# y[y==1.0] = True\n",
    "for column in list(X.columns):\n",
    "    X[column] = X[column].astype('category')\n",
    "X = pd.get_dummies(X)\n",
    "print('size of X is: {}'.format(X.shape))\n",
    "\n"
   ]
  },
  {
   "cell_type": "code",
   "execution_count": 5,
   "metadata": {
    "colab": {
     "base_uri": "https://localhost:8080/",
     "height": 608
    },
    "colab_type": "code",
    "executionInfo": {
     "elapsed": 619564,
     "status": "ok",
     "timestamp": 1546038058817,
     "user": {
      "displayName": "Yao Peng",
      "photoUrl": "",
      "userId": "12020426918915651051"
     },
     "user_tz": 360
    },
    "id": "YGdjX2FaSWgY",
    "outputId": "0b9a7454-1644-432a-f941-5a70e548b71b",
    "scrolled": true
   },
   "outputs": [
    {
     "name": "stderr",
     "output_type": "stream",
     "text": [
      "[Parallel(n_jobs=-1)]: Done  34 tasks      | elapsed:    4.1s\n",
      "[Parallel(n_jobs=-1)]: Done 184 tasks      | elapsed:   20.2s\n",
      "[Parallel(n_jobs=-1)]: Done 434 tasks      | elapsed:   47.6s\n",
      "[Parallel(n_jobs=-1)]: Done 500 out of 500 | elapsed:   54.3s finished\n"
     ]
    },
    {
     "name": "stdout",
     "output_type": "stream",
     "text": [
      "      Iter       Train Loss   Remaining Time \n",
      "         1           1.3620            5.43m\n",
      "         2           1.3422            4.98m\n",
      "         3           1.3268            4.66m\n",
      "         4           1.3147            4.49m\n",
      "         5           1.3024            4.48m\n",
      "         6           1.2923            4.30m\n",
      "         7           1.2831            4.30m\n",
      "         8           1.2754            4.19m\n",
      "         9           1.2686            4.21m\n",
      "        10           1.2631            4.18m\n",
      "        20           1.2296            4.06m\n",
      "        30           1.2160            4.01m\n",
      "        40           1.2094            3.73m\n",
      "        50           1.2052            3.52m\n",
      "        60           1.2023            3.32m\n",
      "        70           1.2000            3.11m\n",
      "        80           1.1981            2.88m\n",
      "        90           1.1966            2.64m\n",
      "       100           1.1951            2.43m\n",
      "       200           1.1842            0.00s\n"
     ]
    },
    {
     "data": {
      "text/plain": [
       "VotingClassifier(estimators=[('RF', RandomForestClassifier(bootstrap=True, class_weight=None, criterion='gini',\n",
       "            max_depth=10, max_features='auto', max_leaf_nodes=None,\n",
       "            min_impurity_decrease=0.0, min_impurity_split=None,\n",
       "            min_samples_leaf=1, min_samples_split=2,\n",
       "            min_weig...e,\n",
       "            splitter='best'),\n",
       "          learning_rate=1.0, n_estimators=500, random_state=None))],\n",
       "         flatten_transform=None, n_jobs=-1, voting='soft', weights=None)"
      ]
     },
     "execution_count": 5,
     "metadata": {},
     "output_type": "execute_result"
    }
   ],
   "source": [
    "Xtrain, Xtest, ytrain, ytest = train_test_split(X, y, test_size=0.2,, random_state=21)\n",
    "# LR = LogisticRegression()\n",
    "# NB = GaussianNB()\n",
    "# SVC = SVC(probability=True)\n",
    "\n",
    "\n",
    "GB = GradientBoostingClassifier(max_depth=5, n_estimators=200, max_features='auto', verbose=1)\n",
    "AB = AdaBoostClassifier(DecisionTreeClassifier(max_depth=5), n_estimators=500)\n",
    "RF = RandomForestClassifier(max_depth=10, n_estimators=500, verbose=1, n_jobs=-1)\n",
    "VC = VotingClassifier(estimators=[('RF',RF),('GB',GB),('AB',AB)], voting='soft', n_jobs=-1)\n"
   ]
  },
  {
   "cell_type": "code",
   "execution_count": null,
   "metadata": {},
   "outputs": [],
   "source": [
    "# individual classifier\n",
    "# LR.fit(Xtrain, ytrain)\n",
    "# NB.fit(Xtrain, ytrain)\n",
    "# SVC.fit(Xtrain, ytrain)\n",
    "\n",
    "# ensemble classifier\n",
    "RF.fit(Xtrain, ytrain)\n",
    "AB.fit(Xtrain, ytrain)\n",
    "GB.fit(Xtrain, ytrain)\n",
    "VC.fit(Xtrain, ytrain)\n",
    "\n",
    "# ANN\n",
    "ANN.fit(X_train, y_train, validation_data=(X_test, y_test), epochs=30, batch_size=20)"
   ]
  },
  {
   "cell_type": "code",
   "execution_count": 6,
   "metadata": {
    "colab": {
     "base_uri": "https://localhost:8080/",
     "height": 218
    },
    "colab_type": "code",
    "executionInfo": {
     "elapsed": 25596,
     "status": "ok",
     "timestamp": 1546037176707,
     "user": {
      "displayName": "Yao Peng",
      "photoUrl": "",
      "userId": "12020426918915651051"
     },
     "user_tz": 360
    },
    "id": "1MyJVqXiap3L",
    "outputId": "07f704a4-ad4e-4c2a-cd7a-8da6f122ef26",
    "scrolled": true
   },
   "outputs": [
    {
     "name": "stderr",
     "output_type": "stream",
     "text": [
      "[Parallel(n_jobs=8)]: Done  34 tasks      | elapsed:    0.4s\n",
      "[Parallel(n_jobs=8)]: Done 184 tasks      | elapsed:    2.2s\n",
      "[Parallel(n_jobs=8)]: Done 434 tasks      | elapsed:    5.3s\n",
      "[Parallel(n_jobs=8)]: Done 500 out of 500 | elapsed:    6.1s finished\n"
     ]
    },
    {
     "name": "stdout",
     "output_type": "stream",
     "text": [
      "random forest recall score (train case): 0.7049171263080772\n"
     ]
    },
    {
     "name": "stderr",
     "output_type": "stream",
     "text": [
      "[Parallel(n_jobs=8)]: Done  34 tasks      | elapsed:    0.0s\n",
      "[Parallel(n_jobs=8)]: Done 184 tasks      | elapsed:    0.4s\n",
      "[Parallel(n_jobs=8)]: Done 434 tasks      | elapsed:    1.0s\n",
      "[Parallel(n_jobs=8)]: Done 500 out of 500 | elapsed:    1.2s finished\n"
     ]
    },
    {
     "name": "stdout",
     "output_type": "stream",
     "text": [
      "random forest recall score (test case): 0.7034825870646766\n"
     ]
    }
   ],
   "source": [
    "ypred = RF.predict(Xtrain)\n",
    "print('random forest recall score (train case): {}'.format(recall_score(ytrain, ypred, pos_label=1)))\n",
    "ypred = RF.predict(Xtest)\n",
    "print('random forest recall score (test case): {}'.format(recall_score(ytest, ypred, pos_label=1)))"
   ]
  },
  {
   "cell_type": "code",
   "execution_count": 8,
   "metadata": {
    "colab": {
     "base_uri": "https://localhost:8080/",
     "height": 50
    },
    "colab_type": "code",
    "executionInfo": {
     "elapsed": 3306,
     "status": "ok",
     "timestamp": 1546037143802,
     "user": {
      "displayName": "Yao Peng",
      "photoUrl": "",
      "userId": "12020426918915651051"
     },
     "user_tz": 360
    },
    "id": "4j-i8lFa_guJ",
    "outputId": "b05a3aeb-9db4-4ff4-ecd2-3534b4aa1245"
   },
   "outputs": [
    {
     "name": "stdout",
     "output_type": "stream",
     "text": [
      "Gradient boost recall score (train case): 0.7650690959694402\n",
      "Gradient boost recall score (test case): 0.7628892574166206\n"
     ]
    }
   ],
   "source": [
    "ypred = GB.predict(Xtrain)\n",
    "print('Gradient boost recall score (train case): {}'.format(recall_score(ytrain, ypred, pos_label=1)))\n",
    "ypred = GB.predict(Xtest)\n",
    "print('Gradient boost recall score (test case): {}'.format(recall_score(ytest, ypred, pos_label=1)))"
   ]
  },
  {
   "cell_type": "code",
   "execution_count": 9,
   "metadata": {
    "scrolled": true
   },
   "outputs": [
    {
     "name": "stdout",
     "output_type": "stream",
     "text": [
      "Ada boost recall score (train case): 0.7956842090711788\n",
      "Ada boost recall score (test case): 0.7840058964437074\n"
     ]
    }
   ],
   "source": [
    "ypred = AB.predict(Xtrain)\n",
    "print('Ada boost recall score (train case): {}'.format(recall_score(ytrain, ypred, pos_label=1)))\n",
    "ypred = AB.predict(Xtest)\n",
    "print('Ada boost recall score (test case): {}'.format(recall_score(ytest, ypred, pos_label=1)))"
   ]
  },
  {
   "cell_type": "code",
   "execution_count": null,
   "metadata": {},
   "outputs": [],
   "source": [
    "ypred = VC.predict(Xtrain)\n",
    "print('Voting classifier recall score (train case): {}'.format(recall_score(ytrain, ypred, pos_label=1)))\n",
    "ypred = VC.predict(Xtest)\n",
    "print('Voting classifier recall score (test case): {}'.format(recall_score(ytest, ypred, pos_label=1)))"
   ]
  },
  {
   "cell_type": "markdown",
   "metadata": {},
   "source": [
    "#### Adaboost gives the best accuracy among all ensemble estimators\n",
    "\n",
    "Tune hyperparameters to improve Adaboost scores"
   ]
  },
  {
   "cell_type": "code",
   "execution_count": 106,
   "metadata": {
    "scrolled": false
   },
   "outputs": [
    {
     "data": {
      "text/plain": [
       "AdaBoostClassifier(algorithm='SAMME.R',\n",
       "          base_estimator=DecisionTreeClassifier(class_weight=None, criterion='gini', max_depth=5,\n",
       "            max_features=None, max_leaf_nodes=None,\n",
       "            min_impurity_decrease=0.0, min_impurity_split=None,\n",
       "            min_samples_leaf=1, min_samples_split=2,\n",
       "            min_weight_fraction_leaf=0.0, presort=False, random_state=None,\n",
       "            splitter='best'),\n",
       "          learning_rate=1.0, n_estimators=750, random_state=None)"
      ]
     },
     "execution_count": 106,
     "metadata": {},
     "output_type": "execute_result"
    }
   ],
   "source": [
    "AB = AdaBoostClassifier(DecisionTreeClassifier(max_depth=5), n_estimators=750)\n",
    "AB.fit(Xtrain, ytrain)"
   ]
  },
  {
   "cell_type": "code",
   "execution_count": 108,
   "metadata": {
    "scrolled": true
   },
   "outputs": [
    {
     "name": "stdout",
     "output_type": "stream",
     "text": [
      "Ada boost recall score (train case): 0.7851388895576431\n",
      "Ada boost recall score (test case): 0.773058814448904\n"
     ]
    }
   ],
   "source": [
    "ypred = AB.predict(Xtrain)\n",
    "print('Ada boost recall score (train case): {}'.format(recall_score(ytrain, ypred, pos_label=1)))\n",
    "ypred = AB.predict(Xtest)\n",
    "print('Ada boost recall score (test case): {}'.format(recall_score(ytest, ypred, pos_label=1)))"
   ]
  },
  {
   "cell_type": "markdown",
   "metadata": {},
   "source": [
    "#### ANN model"
   ]
  },
  {
   "cell_type": "code",
   "execution_count": 21,
   "metadata": {
    "scrolled": true
   },
   "outputs": [
    {
     "name": "stdout",
     "output_type": "stream",
     "text": [
      "Train on 434059 samples, validate on 108515 samples\n",
      "Epoch 1/250\n",
      "434059/434059 [==============================] - 3s 7us/step - loss: 0.6269 - acc: 0.6510 - val_loss: 0.6025 - val_acc: 0.6721\n",
      "Epoch 2/250\n",
      " 30000/434059 [=>............................] - ETA: 1s - loss: 0.6069 - acc: 0.6733"
     ]
    },
    {
     "name": "stderr",
     "output_type": "stream",
     "text": [
      "C:\\Users\\yao_p\\Anaconda3\\lib\\site-packages\\keras\\callbacks.py:569: RuntimeWarning: Early stopping conditioned on metric `categorical_crossentropy` which is not available. Available metrics are: val_loss,val_acc,loss,acc\n",
      "  (self.monitor, ','.join(list(logs.keys()))), RuntimeWarning\n"
     ]
    },
    {
     "name": "stdout",
     "output_type": "stream",
     "text": [
      "434059/434059 [==============================] - 2s 4us/step - loss: 0.6091 - acc: 0.6705 - val_loss: 0.5995 - val_acc: 0.6743\n",
      "Epoch 3/250\n",
      "434059/434059 [==============================] - 2s 4us/step - loss: 0.6057 - acc: 0.6716 - val_loss: 0.5981 - val_acc: 0.6744\n",
      "Epoch 4/250\n",
      "434059/434059 [==============================] - 2s 4us/step - loss: 0.6024 - acc: 0.6737 - val_loss: 0.5947 - val_acc: 0.6759\n",
      "Epoch 5/250\n",
      "434059/434059 [==============================] - 2s 4us/step - loss: 0.5996 - acc: 0.6753 - val_loss: 0.5918 - val_acc: 0.6776\n",
      "Epoch 6/250\n",
      "434059/434059 [==============================] - 2s 5us/step - loss: 0.5961 - acc: 0.6777 - val_loss: 0.5882 - val_acc: 0.6802\n",
      "Epoch 7/250\n",
      "434059/434059 [==============================] - 2s 4us/step - loss: 0.5921 - acc: 0.6799 - val_loss: 0.5842 - val_acc: 0.6821\n",
      "Epoch 8/250\n",
      "434059/434059 [==============================] - 2s 4us/step - loss: 0.5880 - acc: 0.6819 - val_loss: 0.5808 - val_acc: 0.6841\n",
      "Epoch 9/250\n",
      "434059/434059 [==============================] - 2s 4us/step - loss: 0.5830 - acc: 0.6853 - val_loss: 0.5781 - val_acc: 0.6890\n",
      "Epoch 10/250\n",
      "434059/434059 [==============================] - 2s 4us/step - loss: 0.5787 - acc: 0.6883 - val_loss: 0.5700 - val_acc: 0.6919\n",
      "Epoch 11/250\n",
      "434059/434059 [==============================] - 2s 4us/step - loss: 0.5747 - acc: 0.6913 - val_loss: 0.5635 - val_acc: 0.6974\n",
      "Epoch 12/250\n",
      "434059/434059 [==============================] - 2s 4us/step - loss: 0.5697 - acc: 0.6942 - val_loss: 0.5605 - val_acc: 0.6999\n",
      "Epoch 13/250\n",
      "434059/434059 [==============================] - 2s 4us/step - loss: 0.5650 - acc: 0.6978 - val_loss: 0.5561 - val_acc: 0.7018\n",
      "Epoch 14/250\n",
      "434059/434059 [==============================] - 2s 4us/step - loss: 0.5607 - acc: 0.7003 - val_loss: 0.5511 - val_acc: 0.7075\n",
      "Epoch 15/250\n",
      "434059/434059 [==============================] - 2s 4us/step - loss: 0.5564 - acc: 0.7035 - val_loss: 0.5454 - val_acc: 0.7110\n",
      "Epoch 16/250\n",
      "434059/434059 [==============================] - 2s 4us/step - loss: 0.5524 - acc: 0.7063 - val_loss: 0.5458 - val_acc: 0.7107\n",
      "Epoch 17/250\n",
      "434059/434059 [==============================] - 2s 4us/step - loss: 0.5486 - acc: 0.7088 - val_loss: 0.5384 - val_acc: 0.7150\n",
      "Epoch 18/250\n",
      "434059/434059 [==============================] - 2s 4us/step - loss: 0.5446 - acc: 0.7115 - val_loss: 0.5345 - val_acc: 0.7178\n",
      "Epoch 19/250\n",
      "434059/434059 [==============================] - 2s 4us/step - loss: 0.5409 - acc: 0.7138 - val_loss: 0.5308 - val_acc: 0.7203\n",
      "Epoch 20/250\n",
      "434059/434059 [==============================] - 2s 4us/step - loss: 0.5378 - acc: 0.7154 - val_loss: 0.5288 - val_acc: 0.7209\n",
      "Epoch 21/250\n",
      "434059/434059 [==============================] - 2s 4us/step - loss: 0.5344 - acc: 0.7177 - val_loss: 0.5246 - val_acc: 0.7252\n",
      "Epoch 22/250\n",
      "434059/434059 [==============================] - 2s 4us/step - loss: 0.5318 - acc: 0.7197 - val_loss: 0.5213 - val_acc: 0.7258\n",
      "Epoch 23/250\n",
      "434059/434059 [==============================] - 2s 4us/step - loss: 0.5287 - acc: 0.7214 - val_loss: 0.5194 - val_acc: 0.7267\n",
      "Epoch 24/250\n",
      "434059/434059 [==============================] - 2s 4us/step - loss: 0.5265 - acc: 0.7224 - val_loss: 0.5170 - val_acc: 0.7283\n",
      "Epoch 25/250\n",
      "434059/434059 [==============================] - 2s 4us/step - loss: 0.5240 - acc: 0.7234 - val_loss: 0.5188 - val_acc: 0.7278\n",
      "Epoch 26/250\n",
      "434059/434059 [==============================] - 2s 4us/step - loss: 0.5212 - acc: 0.7255 - val_loss: 0.5151 - val_acc: 0.7293\n",
      "Epoch 27/250\n",
      "434059/434059 [==============================] - 2s 5us/step - loss: 0.5190 - acc: 0.7273 - val_loss: 0.5104 - val_acc: 0.7312\n",
      "Epoch 28/250\n",
      "434059/434059 [==============================] - 2s 5us/step - loss: 0.5180 - acc: 0.7278 - val_loss: 0.5105 - val_acc: 0.7319\n",
      "Epoch 29/250\n",
      "434059/434059 [==============================] - 2s 4us/step - loss: 0.5160 - acc: 0.7292 - val_loss: 0.5102 - val_acc: 0.7339\n",
      "Epoch 30/250\n",
      "434059/434059 [==============================] - 2s 4us/step - loss: 0.5137 - acc: 0.7307 - val_loss: 0.5105 - val_acc: 0.7325\n",
      "Epoch 31/250\n",
      "434059/434059 [==============================] - 2s 4us/step - loss: 0.5118 - acc: 0.7318 - val_loss: 0.5056 - val_acc: 0.7349\n",
      "Epoch 32/250\n",
      "434059/434059 [==============================] - 2s 4us/step - loss: 0.5109 - acc: 0.7326 - val_loss: 0.5053 - val_acc: 0.7356\n",
      "Epoch 33/250\n",
      "434059/434059 [==============================] - 2s 4us/step - loss: 0.5095 - acc: 0.7329 - val_loss: 0.5078 - val_acc: 0.7338\n",
      "Epoch 34/250\n",
      "434059/434059 [==============================] - 2s 4us/step - loss: 0.5077 - acc: 0.7339 - val_loss: 0.5030 - val_acc: 0.7373\n",
      "Epoch 35/250\n",
      "434059/434059 [==============================] - 2s 4us/step - loss: 0.5066 - acc: 0.7343 - val_loss: 0.5028 - val_acc: 0.7369\n",
      "Epoch 36/250\n",
      "434059/434059 [==============================] - 2s 4us/step - loss: 0.5050 - acc: 0.7356 - val_loss: 0.5010 - val_acc: 0.7379\n",
      "Epoch 37/250\n",
      "434059/434059 [==============================] - 2s 4us/step - loss: 0.5038 - acc: 0.7363 - val_loss: 0.5014 - val_acc: 0.7379\n",
      "Epoch 38/250\n",
      "434059/434059 [==============================] - 2s 4us/step - loss: 0.5030 - acc: 0.7369 - val_loss: 0.4983 - val_acc: 0.7394\n",
      "Epoch 39/250\n",
      "434059/434059 [==============================] - 2s 4us/step - loss: 0.5016 - acc: 0.7372 - val_loss: 0.4989 - val_acc: 0.7390\n",
      "Epoch 40/250\n",
      "434059/434059 [==============================] - 2s 4us/step - loss: 0.5019 - acc: 0.7373 - val_loss: 0.4986 - val_acc: 0.7392\n",
      "Epoch 41/250\n",
      "434059/434059 [==============================] - 2s 4us/step - loss: 0.4997 - acc: 0.7387 - val_loss: 0.4967 - val_acc: 0.7408\n",
      "Epoch 42/250\n",
      "434059/434059 [==============================] - 2s 4us/step - loss: 0.4992 - acc: 0.7385 - val_loss: 0.4963 - val_acc: 0.7408\n",
      "Epoch 43/250\n",
      "434059/434059 [==============================] - 2s 4us/step - loss: 0.4981 - acc: 0.7386 - val_loss: 0.4971 - val_acc: 0.7405\n",
      "Epoch 44/250\n",
      "434059/434059 [==============================] - 2s 4us/step - loss: 0.4977 - acc: 0.7396 - val_loss: 0.4931 - val_acc: 0.7427\n",
      "Epoch 45/250\n",
      "434059/434059 [==============================] - 2s 4us/step - loss: 0.4963 - acc: 0.7402 - val_loss: 0.4934 - val_acc: 0.7424\n",
      "Epoch 46/250\n",
      "434059/434059 [==============================] - 2s 4us/step - loss: 0.4960 - acc: 0.7410 - val_loss: 0.4946 - val_acc: 0.7426\n",
      "Epoch 47/250\n",
      "434059/434059 [==============================] - 2s 4us/step - loss: 0.4954 - acc: 0.7408 - val_loss: 0.4936 - val_acc: 0.7424\n",
      "Epoch 48/250\n",
      "434059/434059 [==============================] - 2s 4us/step - loss: 0.4948 - acc: 0.7411 - val_loss: 0.4929 - val_acc: 0.7428\n",
      "Epoch 49/250\n",
      "434059/434059 [==============================] - 2s 4us/step - loss: 0.4938 - acc: 0.7418 - val_loss: 0.4930 - val_acc: 0.7428\n",
      "Epoch 50/250\n",
      "434059/434059 [==============================] - 2s 4us/step - loss: 0.4928 - acc: 0.7422 - val_loss: 0.4913 - val_acc: 0.7426\n",
      "Epoch 51/250\n",
      "434059/434059 [==============================] - 2s 4us/step - loss: 0.4929 - acc: 0.7422 - val_loss: 0.4919 - val_acc: 0.7426\n",
      "Epoch 52/250\n",
      "434059/434059 [==============================] - 2s 4us/step - loss: 0.4924 - acc: 0.7423 - val_loss: 0.4913 - val_acc: 0.7434\n",
      "Epoch 53/250\n",
      "434059/434059 [==============================] - 2s 4us/step - loss: 0.4917 - acc: 0.7430 - val_loss: 0.4897 - val_acc: 0.7437\n",
      "Epoch 54/250\n",
      "434059/434059 [==============================] - 2s 4us/step - loss: 0.4910 - acc: 0.7433 - val_loss: 0.4896 - val_acc: 0.7450\n",
      "Epoch 55/250\n",
      "434059/434059 [==============================] - 2s 4us/step - loss: 0.4900 - acc: 0.7439 - val_loss: 0.4905 - val_acc: 0.7438\n",
      "Epoch 56/250\n",
      "434059/434059 [==============================] - 2s 4us/step - loss: 0.4890 - acc: 0.7442 - val_loss: 0.4897 - val_acc: 0.7445\n",
      "Epoch 57/250\n",
      "434059/434059 [==============================] - 2s 4us/step - loss: 0.4886 - acc: 0.7437 - val_loss: 0.4902 - val_acc: 0.7445\n",
      "Epoch 58/250\n",
      "434059/434059 [==============================] - 2s 4us/step - loss: 0.4889 - acc: 0.7442 - val_loss: 0.4886 - val_acc: 0.7446\n",
      "Epoch 59/250\n",
      "434059/434059 [==============================] - 2s 4us/step - loss: 0.4885 - acc: 0.7443 - val_loss: 0.4909 - val_acc: 0.7442\n",
      "Epoch 60/250\n"
     ]
    },
    {
     "name": "stdout",
     "output_type": "stream",
     "text": [
      "434059/434059 [==============================] - 2s 4us/step - loss: 0.4876 - acc: 0.7446 - val_loss: 0.4886 - val_acc: 0.7447\n",
      "Epoch 61/250\n",
      "434059/434059 [==============================] - 2s 4us/step - loss: 0.4881 - acc: 0.7446 - val_loss: 0.4872 - val_acc: 0.7454\n",
      "Epoch 62/250\n",
      "434059/434059 [==============================] - 2s 4us/step - loss: 0.4870 - acc: 0.7453 - val_loss: 0.4874 - val_acc: 0.7459\n",
      "Epoch 63/250\n",
      "434059/434059 [==============================] - 2s 4us/step - loss: 0.4866 - acc: 0.7449 - val_loss: 0.4875 - val_acc: 0.7451\n",
      "Epoch 64/250\n",
      "434059/434059 [==============================] - 2s 4us/step - loss: 0.4856 - acc: 0.7458 - val_loss: 0.4866 - val_acc: 0.7458\n",
      "Epoch 65/250\n",
      "434059/434059 [==============================] - 2s 5us/step - loss: 0.4848 - acc: 0.7465 - val_loss: 0.4861 - val_acc: 0.7467\n",
      "Epoch 66/250\n",
      "434059/434059 [==============================] - 2s 4us/step - loss: 0.4850 - acc: 0.7461 - val_loss: 0.4870 - val_acc: 0.7461\n",
      "Epoch 67/250\n",
      "434059/434059 [==============================] - 2s 4us/step - loss: 0.4855 - acc: 0.7461 - val_loss: 0.4874 - val_acc: 0.7461\n",
      "Epoch 68/250\n",
      "434059/434059 [==============================] - 2s 4us/step - loss: 0.4845 - acc: 0.7463 - val_loss: 0.4863 - val_acc: 0.7473\n",
      "Epoch 69/250\n",
      "434059/434059 [==============================] - 2s 5us/step - loss: 0.4841 - acc: 0.7465 - val_loss: 0.4845 - val_acc: 0.7463\n",
      "Epoch 70/250\n",
      "434059/434059 [==============================] - 2s 5us/step - loss: 0.4834 - acc: 0.7467 - val_loss: 0.4862 - val_acc: 0.7462\n",
      "Epoch 71/250\n",
      "434059/434059 [==============================] - 2s 5us/step - loss: 0.4841 - acc: 0.7469 - val_loss: 0.4850 - val_acc: 0.7468\n",
      "Epoch 72/250\n",
      "434059/434059 [==============================] - 2s 5us/step - loss: 0.4831 - acc: 0.7473 - val_loss: 0.4834 - val_acc: 0.7475\n",
      "Epoch 73/250\n",
      "434059/434059 [==============================] - 2s 5us/step - loss: 0.4829 - acc: 0.7480 - val_loss: 0.4851 - val_acc: 0.7475\n",
      "Epoch 74/250\n",
      "434059/434059 [==============================] - 2s 5us/step - loss: 0.4825 - acc: 0.7474 - val_loss: 0.4830 - val_acc: 0.7482\n",
      "Epoch 75/250\n",
      "434059/434059 [==============================] - 2s 5us/step - loss: 0.4822 - acc: 0.7479 - val_loss: 0.4839 - val_acc: 0.7472\n",
      "Epoch 76/250\n",
      "434059/434059 [==============================] - 2s 5us/step - loss: 0.4815 - acc: 0.7484 - val_loss: 0.4844 - val_acc: 0.7477\n",
      "Epoch 77/250\n",
      "434059/434059 [==============================] - 2s 5us/step - loss: 0.4821 - acc: 0.7472 - val_loss: 0.4841 - val_acc: 0.7476\n",
      "Epoch 78/250\n",
      "434059/434059 [==============================] - 2s 5us/step - loss: 0.4814 - acc: 0.7480 - val_loss: 0.4837 - val_acc: 0.7479\n",
      "Epoch 79/250\n",
      "434059/434059 [==============================] - 2s 5us/step - loss: 0.4807 - acc: 0.7483 - val_loss: 0.4844 - val_acc: 0.7476\n",
      "Epoch 80/250\n",
      "434059/434059 [==============================] - 2s 5us/step - loss: 0.4810 - acc: 0.7483 - val_loss: 0.4834 - val_acc: 0.7482\n",
      "Epoch 81/250\n",
      "434059/434059 [==============================] - 2s 5us/step - loss: 0.4805 - acc: 0.7482 - val_loss: 0.4863 - val_acc: 0.7473\n",
      "Epoch 82/250\n",
      "434059/434059 [==============================] - 2s 4us/step - loss: 0.4804 - acc: 0.7490 - val_loss: 0.4840 - val_acc: 0.7480\n",
      "Epoch 83/250\n",
      "434059/434059 [==============================] - 2s 5us/step - loss: 0.4801 - acc: 0.7492 - val_loss: 0.4840 - val_acc: 0.7477\n",
      "Epoch 84/250\n",
      "434059/434059 [==============================] - 2s 5us/step - loss: 0.4794 - acc: 0.7488 - val_loss: 0.4831 - val_acc: 0.7477\n",
      "Epoch 85/250\n",
      "434059/434059 [==============================] - 2s 5us/step - loss: 0.4790 - acc: 0.7496 - val_loss: 0.4836 - val_acc: 0.7479\n",
      "Epoch 86/250\n",
      "434059/434059 [==============================] - 2s 5us/step - loss: 0.4787 - acc: 0.7491 - val_loss: 0.4825 - val_acc: 0.7477\n",
      "Epoch 87/250\n",
      "434059/434059 [==============================] - 2s 5us/step - loss: 0.4793 - acc: 0.7493 - val_loss: 0.4813 - val_acc: 0.7494\n",
      "Epoch 88/250\n",
      "434059/434059 [==============================] - 2s 5us/step - loss: 0.4784 - acc: 0.7489 - val_loss: 0.4822 - val_acc: 0.7476\n",
      "Epoch 89/250\n",
      "434059/434059 [==============================] - 2s 5us/step - loss: 0.4783 - acc: 0.7497 - val_loss: 0.4838 - val_acc: 0.7479\n",
      "Epoch 90/250\n",
      "434059/434059 [==============================] - 2s 5us/step - loss: 0.4789 - acc: 0.7493 - val_loss: 0.4825 - val_acc: 0.7487\n",
      "Epoch 91/250\n",
      "434059/434059 [==============================] - 2s 5us/step - loss: 0.4781 - acc: 0.7498 - val_loss: 0.4829 - val_acc: 0.7488\n",
      "Epoch 92/250\n",
      "434059/434059 [==============================] - 2s 6us/step - loss: 0.4781 - acc: 0.7494 - val_loss: 0.4830 - val_acc: 0.7479\n",
      "Epoch 93/250\n",
      "434059/434059 [==============================] - 2s 5us/step - loss: 0.4779 - acc: 0.7502 - val_loss: 0.4825 - val_acc: 0.7488\n",
      "Epoch 94/250\n",
      "434059/434059 [==============================] - 2s 5us/step - loss: 0.4775 - acc: 0.7505 - val_loss: 0.4810 - val_acc: 0.7491\n",
      "Epoch 95/250\n",
      "434059/434059 [==============================] - 2s 6us/step - loss: 0.4776 - acc: 0.7499 - val_loss: 0.4817 - val_acc: 0.7491\n",
      "Epoch 96/250\n",
      "434059/434059 [==============================] - 2s 5us/step - loss: 0.4771 - acc: 0.7502 - val_loss: 0.4817 - val_acc: 0.7492\n",
      "Epoch 97/250\n",
      "434059/434059 [==============================] - 2s 5us/step - loss: 0.4770 - acc: 0.7504 - val_loss: 0.4824 - val_acc: 0.7486\n",
      "Epoch 98/250\n",
      "434059/434059 [==============================] - 2s 5us/step - loss: 0.4767 - acc: 0.7498 - val_loss: 0.4812 - val_acc: 0.7487\n",
      "Epoch 99/250\n",
      "434059/434059 [==============================] - 2s 5us/step - loss: 0.4760 - acc: 0.7512 - val_loss: 0.4807 - val_acc: 0.7493\n",
      "Epoch 100/250\n",
      "434059/434059 [==============================] - 2s 5us/step - loss: 0.4768 - acc: 0.7505 - val_loss: 0.4813 - val_acc: 0.7488\n",
      "Epoch 101/250\n",
      "434059/434059 [==============================] - 2s 5us/step - loss: 0.4758 - acc: 0.7509 - val_loss: 0.4830 - val_acc: 0.7484\n",
      "Epoch 102/250\n",
      "434059/434059 [==============================] - 2s 5us/step - loss: 0.4763 - acc: 0.7506 - val_loss: 0.4811 - val_acc: 0.7490\n",
      "Epoch 103/250\n",
      "434059/434059 [==============================] - 2s 5us/step - loss: 0.4759 - acc: 0.7513 - val_loss: 0.4813 - val_acc: 0.7491\n",
      "Epoch 104/250\n",
      "434059/434059 [==============================] - 2s 5us/step - loss: 0.4760 - acc: 0.7510 - val_loss: 0.4808 - val_acc: 0.7494\n",
      "Epoch 105/250\n",
      "434059/434059 [==============================] - 2s 5us/step - loss: 0.4750 - acc: 0.7510 - val_loss: 0.4813 - val_acc: 0.7496\n",
      "Epoch 106/250\n",
      "434059/434059 [==============================] - 2s 5us/step - loss: 0.4757 - acc: 0.7508 - val_loss: 0.4808 - val_acc: 0.7499\n",
      "Epoch 107/250\n",
      "434059/434059 [==============================] - 2s 5us/step - loss: 0.4748 - acc: 0.7512 - val_loss: 0.4815 - val_acc: 0.7497\n",
      "Epoch 108/250\n",
      "434059/434059 [==============================] - 2s 5us/step - loss: 0.4753 - acc: 0.7513 - val_loss: 0.4819 - val_acc: 0.7492\n",
      "Epoch 109/250\n",
      "434059/434059 [==============================] - 2s 5us/step - loss: 0.4752 - acc: 0.7518 - val_loss: 0.4812 - val_acc: 0.7502\n",
      "Epoch 110/250\n",
      "434059/434059 [==============================] - 2s 5us/step - loss: 0.4752 - acc: 0.7510 - val_loss: 0.4816 - val_acc: 0.7494\n",
      "Epoch 111/250\n",
      "434059/434059 [==============================] - 2s 5us/step - loss: 0.4747 - acc: 0.7513 - val_loss: 0.4809 - val_acc: 0.7503\n",
      "Epoch 112/250\n",
      "434059/434059 [==============================] - 2s 4us/step - loss: 0.4748 - acc: 0.7512 - val_loss: 0.4815 - val_acc: 0.7501\n",
      "Epoch 113/250\n",
      "434059/434059 [==============================] - 2s 4us/step - loss: 0.4750 - acc: 0.7512 - val_loss: 0.4808 - val_acc: 0.7501\n",
      "Epoch 114/250\n",
      "434059/434059 [==============================] - 2s 4us/step - loss: 0.4736 - acc: 0.7524 - val_loss: 0.4813 - val_acc: 0.7492\n",
      "Epoch 115/250\n",
      "434059/434059 [==============================] - 2s 4us/step - loss: 0.4740 - acc: 0.7524 - val_loss: 0.4800 - val_acc: 0.7502\n",
      "Epoch 116/250\n",
      "434059/434059 [==============================] - 2s 4us/step - loss: 0.4742 - acc: 0.7521 - val_loss: 0.4813 - val_acc: 0.7496\n",
      "Epoch 117/250\n",
      "434059/434059 [==============================] - 2s 4us/step - loss: 0.4740 - acc: 0.7525 - val_loss: 0.4813 - val_acc: 0.7496\n",
      "Epoch 118/250\n"
     ]
    },
    {
     "name": "stdout",
     "output_type": "stream",
     "text": [
      "434059/434059 [==============================] - 2s 4us/step - loss: 0.4739 - acc: 0.7517 - val_loss: 0.4799 - val_acc: 0.7497\n",
      "Epoch 119/250\n",
      "434059/434059 [==============================] - 2s 4us/step - loss: 0.4735 - acc: 0.7516 - val_loss: 0.4795 - val_acc: 0.7504\n",
      "Epoch 120/250\n",
      "434059/434059 [==============================] - 2s 4us/step - loss: 0.4737 - acc: 0.7525 - val_loss: 0.4800 - val_acc: 0.7498\n",
      "Epoch 121/250\n",
      "434059/434059 [==============================] - 2s 4us/step - loss: 0.4735 - acc: 0.7519 - val_loss: 0.4796 - val_acc: 0.7496\n",
      "Epoch 122/250\n",
      "434059/434059 [==============================] - 2s 4us/step - loss: 0.4734 - acc: 0.7526 - val_loss: 0.4802 - val_acc: 0.7503\n",
      "Epoch 123/250\n",
      "434059/434059 [==============================] - 2s 4us/step - loss: 0.4733 - acc: 0.7523 - val_loss: 0.4791 - val_acc: 0.7505\n",
      "Epoch 124/250\n",
      "434059/434059 [==============================] - 2s 4us/step - loss: 0.4730 - acc: 0.7526 - val_loss: 0.4796 - val_acc: 0.7508\n",
      "Epoch 125/250\n",
      "434059/434059 [==============================] - 2s 4us/step - loss: 0.4728 - acc: 0.7524 - val_loss: 0.4797 - val_acc: 0.7506\n",
      "Epoch 126/250\n",
      "434059/434059 [==============================] - 2s 4us/step - loss: 0.4732 - acc: 0.7523 - val_loss: 0.4810 - val_acc: 0.7501\n",
      "Epoch 127/250\n",
      "434059/434059 [==============================] - 2s 4us/step - loss: 0.4732 - acc: 0.7522 - val_loss: 0.4790 - val_acc: 0.7510\n",
      "Epoch 128/250\n",
      "434059/434059 [==============================] - 2s 4us/step - loss: 0.4722 - acc: 0.7532 - val_loss: 0.4796 - val_acc: 0.7503\n",
      "Epoch 129/250\n",
      "434059/434059 [==============================] - 2s 4us/step - loss: 0.4729 - acc: 0.7527 - val_loss: 0.4796 - val_acc: 0.7507\n",
      "Epoch 130/250\n",
      "434059/434059 [==============================] - 2s 4us/step - loss: 0.4726 - acc: 0.7522 - val_loss: 0.4801 - val_acc: 0.7504\n",
      "Epoch 131/250\n",
      "434059/434059 [==============================] - 2s 4us/step - loss: 0.4725 - acc: 0.7522 - val_loss: 0.4807 - val_acc: 0.7498\n",
      "Epoch 132/250\n",
      "434059/434059 [==============================] - 2s 4us/step - loss: 0.4725 - acc: 0.7531 - val_loss: 0.4788 - val_acc: 0.7508\n",
      "Epoch 133/250\n",
      "434059/434059 [==============================] - 2s 4us/step - loss: 0.4718 - acc: 0.7529 - val_loss: 0.4786 - val_acc: 0.7511\n",
      "Epoch 134/250\n",
      "434059/434059 [==============================] - 2s 5us/step - loss: 0.4717 - acc: 0.7531 - val_loss: 0.4794 - val_acc: 0.7502\n",
      "Epoch 135/250\n",
      "434059/434059 [==============================] - 2s 4us/step - loss: 0.4715 - acc: 0.7530 - val_loss: 0.4792 - val_acc: 0.7504\n",
      "Epoch 136/250\n",
      "434059/434059 [==============================] - 2s 5us/step - loss: 0.4718 - acc: 0.7531 - val_loss: 0.4800 - val_acc: 0.7503\n",
      "Epoch 137/250\n",
      "434059/434059 [==============================] - 2s 5us/step - loss: 0.4714 - acc: 0.7525 - val_loss: 0.4792 - val_acc: 0.7507\n",
      "Epoch 138/250\n",
      "434059/434059 [==============================] - 2s 5us/step - loss: 0.4711 - acc: 0.7532 - val_loss: 0.4783 - val_acc: 0.7512\n",
      "Epoch 139/250\n",
      "434059/434059 [==============================] - 2s 4us/step - loss: 0.4717 - acc: 0.7535 - val_loss: 0.4790 - val_acc: 0.7503\n",
      "Epoch 140/250\n",
      "434059/434059 [==============================] - 2s 4us/step - loss: 0.4715 - acc: 0.7531 - val_loss: 0.4793 - val_acc: 0.7503\n",
      "Epoch 141/250\n",
      "434059/434059 [==============================] - 2s 4us/step - loss: 0.4713 - acc: 0.7538 - val_loss: 0.4795 - val_acc: 0.7504\n",
      "Epoch 142/250\n",
      "434059/434059 [==============================] - 2s 4us/step - loss: 0.4708 - acc: 0.7535 - val_loss: 0.4795 - val_acc: 0.7507\n",
      "Epoch 143/250\n",
      "434059/434059 [==============================] - 2s 4us/step - loss: 0.4710 - acc: 0.7533 - val_loss: 0.4797 - val_acc: 0.7506\n",
      "Epoch 144/250\n",
      "434059/434059 [==============================] - 2s 4us/step - loss: 0.4705 - acc: 0.7537 - val_loss: 0.4782 - val_acc: 0.7508\n",
      "Epoch 145/250\n",
      "434059/434059 [==============================] - 2s 4us/step - loss: 0.4707 - acc: 0.7538 - val_loss: 0.4787 - val_acc: 0.7507\n",
      "Epoch 146/250\n",
      "434059/434059 [==============================] - 2s 4us/step - loss: 0.4709 - acc: 0.7533 - val_loss: 0.4788 - val_acc: 0.7514\n",
      "Epoch 147/250\n",
      "434059/434059 [==============================] - 2s 4us/step - loss: 0.4705 - acc: 0.7536 - val_loss: 0.4778 - val_acc: 0.7515\n",
      "Epoch 148/250\n",
      "434059/434059 [==============================] - 2s 4us/step - loss: 0.4700 - acc: 0.7538 - val_loss: 0.4779 - val_acc: 0.7518\n",
      "Epoch 149/250\n",
      "434059/434059 [==============================] - 2s 4us/step - loss: 0.4703 - acc: 0.7533 - val_loss: 0.4802 - val_acc: 0.7507\n",
      "Epoch 150/250\n",
      "434059/434059 [==============================] - 2s 4us/step - loss: 0.4703 - acc: 0.7536 - val_loss: 0.4797 - val_acc: 0.7506\n",
      "Epoch 151/250\n",
      "434059/434059 [==============================] - 2s 4us/step - loss: 0.4707 - acc: 0.7536 - val_loss: 0.4792 - val_acc: 0.7508\n",
      "Epoch 152/250\n",
      "434059/434059 [==============================] - 2s 4us/step - loss: 0.4699 - acc: 0.7536 - val_loss: 0.4799 - val_acc: 0.7510\n",
      "Epoch 153/250\n",
      "434059/434059 [==============================] - 2s 4us/step - loss: 0.4701 - acc: 0.7539 - val_loss: 0.4786 - val_acc: 0.7517\n",
      "Epoch 154/250\n",
      "434059/434059 [==============================] - 2s 4us/step - loss: 0.4696 - acc: 0.7536 - val_loss: 0.4788 - val_acc: 0.7518\n",
      "Epoch 155/250\n",
      "434059/434059 [==============================] - 2s 4us/step - loss: 0.4701 - acc: 0.7541 - val_loss: 0.4792 - val_acc: 0.7515\n",
      "Epoch 156/250\n",
      "434059/434059 [==============================] - 2s 4us/step - loss: 0.4699 - acc: 0.7538 - val_loss: 0.4781 - val_acc: 0.7516\n",
      "Epoch 157/250\n",
      "434059/434059 [==============================] - 2s 4us/step - loss: 0.4698 - acc: 0.7543 - val_loss: 0.4790 - val_acc: 0.7510\n",
      "Epoch 158/250\n",
      "434059/434059 [==============================] - 2s 4us/step - loss: 0.4699 - acc: 0.7541 - val_loss: 0.4780 - val_acc: 0.7515\n",
      "Epoch 159/250\n",
      "434059/434059 [==============================] - 2s 4us/step - loss: 0.4698 - acc: 0.7542 - val_loss: 0.4798 - val_acc: 0.7507\n",
      "Epoch 160/250\n",
      "434059/434059 [==============================] - 2s 4us/step - loss: 0.4698 - acc: 0.7539 - val_loss: 0.4800 - val_acc: 0.7507\n",
      "Epoch 161/250\n",
      "434059/434059 [==============================] - 2s 4us/step - loss: 0.4696 - acc: 0.7539 - val_loss: 0.4778 - val_acc: 0.7516\n",
      "Epoch 162/250\n",
      "434059/434059 [==============================] - 2s 4us/step - loss: 0.4691 - acc: 0.7546 - val_loss: 0.4794 - val_acc: 0.7513\n",
      "Epoch 163/250\n",
      "434059/434059 [==============================] - 2s 4us/step - loss: 0.4694 - acc: 0.7546 - val_loss: 0.4776 - val_acc: 0.7513\n",
      "Epoch 164/250\n",
      "434059/434059 [==============================] - 2s 4us/step - loss: 0.4694 - acc: 0.7544 - val_loss: 0.4773 - val_acc: 0.7520\n",
      "Epoch 165/250\n",
      "434059/434059 [==============================] - 2s 4us/step - loss: 0.4692 - acc: 0.7542 - val_loss: 0.4786 - val_acc: 0.7511\n",
      "Epoch 166/250\n",
      "434059/434059 [==============================] - 2s 4us/step - loss: 0.4685 - acc: 0.7548 - val_loss: 0.4788 - val_acc: 0.7508\n",
      "Epoch 167/250\n",
      "434059/434059 [==============================] - 2s 4us/step - loss: 0.4690 - acc: 0.7544 - val_loss: 0.4783 - val_acc: 0.7515\n",
      "Epoch 168/250\n",
      "434059/434059 [==============================] - 2s 4us/step - loss: 0.4694 - acc: 0.7541 - val_loss: 0.4807 - val_acc: 0.7503\n",
      "Epoch 169/250\n",
      "434059/434059 [==============================] - 2s 4us/step - loss: 0.4698 - acc: 0.7544 - val_loss: 0.4780 - val_acc: 0.7512\n",
      "Epoch 170/250\n",
      "434059/434059 [==============================] - 2s 4us/step - loss: 0.4688 - acc: 0.7541 - val_loss: 0.4780 - val_acc: 0.7515\n",
      "Epoch 171/250\n",
      "434059/434059 [==============================] - 2s 4us/step - loss: 0.4684 - acc: 0.7548 - val_loss: 0.4786 - val_acc: 0.7505\n",
      "Epoch 172/250\n",
      "434059/434059 [==============================] - 2s 5us/step - loss: 0.4687 - acc: 0.7546 - val_loss: 0.4780 - val_acc: 0.7516\n",
      "Epoch 173/250\n",
      "434059/434059 [==============================] - 2s 4us/step - loss: 0.4689 - acc: 0.7546 - val_loss: 0.4779 - val_acc: 0.7516\n",
      "Epoch 174/250\n",
      "434059/434059 [==============================] - 2s 4us/step - loss: 0.4683 - acc: 0.7544 - val_loss: 0.4794 - val_acc: 0.7504\n",
      "Epoch 175/250\n",
      "434059/434059 [==============================] - 2s 4us/step - loss: 0.4681 - acc: 0.7549 - val_loss: 0.4796 - val_acc: 0.7510\n",
      "Epoch 176/250\n"
     ]
    },
    {
     "name": "stdout",
     "output_type": "stream",
     "text": [
      "434059/434059 [==============================] - 2s 5us/step - loss: 0.4681 - acc: 0.7547 - val_loss: 0.4782 - val_acc: 0.7509\n",
      "Epoch 177/250\n",
      "434059/434059 [==============================] - 2s 5us/step - loss: 0.4685 - acc: 0.7547 - val_loss: 0.4793 - val_acc: 0.7513\n",
      "Epoch 178/250\n",
      "434059/434059 [==============================] - 2s 4us/step - loss: 0.4679 - acc: 0.7547 - val_loss: 0.4783 - val_acc: 0.7514\n",
      "Epoch 179/250\n",
      "434059/434059 [==============================] - 2s 4us/step - loss: 0.4680 - acc: 0.7548 - val_loss: 0.4793 - val_acc: 0.7508\n",
      "Epoch 180/250\n",
      "434059/434059 [==============================] - 2s 4us/step - loss: 0.4687 - acc: 0.7547 - val_loss: 0.4779 - val_acc: 0.7516\n",
      "Epoch 181/250\n",
      "434059/434059 [==============================] - 2s 4us/step - loss: 0.4678 - acc: 0.7553 - val_loss: 0.4770 - val_acc: 0.7513\n",
      "Epoch 182/250\n",
      "434059/434059 [==============================] - 2s 5us/step - loss: 0.4681 - acc: 0.7549 - val_loss: 0.4799 - val_acc: 0.7512\n",
      "Epoch 183/250\n",
      "434059/434059 [==============================] - 2s 5us/step - loss: 0.4680 - acc: 0.7550 - val_loss: 0.4783 - val_acc: 0.7512\n",
      "Epoch 184/250\n",
      "434059/434059 [==============================] - 2s 5us/step - loss: 0.4679 - acc: 0.7551 - val_loss: 0.4781 - val_acc: 0.7516\n",
      "Epoch 185/250\n",
      "434059/434059 [==============================] - 2s 4us/step - loss: 0.4675 - acc: 0.7554 - val_loss: 0.4779 - val_acc: 0.7512\n",
      "Epoch 186/250\n",
      "434059/434059 [==============================] - 2s 4us/step - loss: 0.4676 - acc: 0.7549 - val_loss: 0.4779 - val_acc: 0.7514\n",
      "Epoch 187/250\n",
      "434059/434059 [==============================] - 2s 4us/step - loss: 0.4676 - acc: 0.7552 - val_loss: 0.4777 - val_acc: 0.7516\n",
      "Epoch 188/250\n",
      "434059/434059 [==============================] - 2s 4us/step - loss: 0.4672 - acc: 0.7554 - val_loss: 0.4784 - val_acc: 0.7514\n",
      "Epoch 189/250\n",
      "434059/434059 [==============================] - 2s 4us/step - loss: 0.4673 - acc: 0.7551 - val_loss: 0.4785 - val_acc: 0.7522\n",
      "Epoch 190/250\n",
      "434059/434059 [==============================] - 2s 4us/step - loss: 0.4675 - acc: 0.7548 - val_loss: 0.4794 - val_acc: 0.7517\n",
      "Epoch 191/250\n",
      "434059/434059 [==============================] - 2s 4us/step - loss: 0.4671 - acc: 0.7550 - val_loss: 0.4777 - val_acc: 0.7521\n",
      "Epoch 192/250\n",
      "434059/434059 [==============================] - 2s 4us/step - loss: 0.4670 - acc: 0.7552 - val_loss: 0.4773 - val_acc: 0.7522\n",
      "Epoch 193/250\n",
      "434059/434059 [==============================] - 2s 4us/step - loss: 0.4676 - acc: 0.7553 - val_loss: 0.4779 - val_acc: 0.7520\n",
      "Epoch 194/250\n",
      "434059/434059 [==============================] - 2s 4us/step - loss: 0.4677 - acc: 0.7551 - val_loss: 0.4786 - val_acc: 0.7516\n",
      "Epoch 195/250\n",
      "434059/434059 [==============================] - 2s 4us/step - loss: 0.4678 - acc: 0.7549 - val_loss: 0.4774 - val_acc: 0.7511\n",
      "Epoch 196/250\n",
      "434059/434059 [==============================] - 2s 4us/step - loss: 0.4676 - acc: 0.7552 - val_loss: 0.4779 - val_acc: 0.7517\n",
      "Epoch 197/250\n",
      "434059/434059 [==============================] - 2s 4us/step - loss: 0.4674 - acc: 0.7551 - val_loss: 0.4785 - val_acc: 0.7512\n",
      "Epoch 198/250\n",
      "434059/434059 [==============================] - 2s 4us/step - loss: 0.4666 - acc: 0.7548 - val_loss: 0.4786 - val_acc: 0.7517\n",
      "Epoch 199/250\n",
      "434059/434059 [==============================] - 2s 4us/step - loss: 0.4672 - acc: 0.7553 - val_loss: 0.4770 - val_acc: 0.7524\n",
      "Epoch 200/250\n",
      "434059/434059 [==============================] - 2s 4us/step - loss: 0.4664 - acc: 0.7557 - val_loss: 0.4783 - val_acc: 0.7513\n",
      "Epoch 201/250\n",
      "434059/434059 [==============================] - 2s 4us/step - loss: 0.4666 - acc: 0.7555 - val_loss: 0.4776 - val_acc: 0.7517\n",
      "Epoch 202/250\n",
      "434059/434059 [==============================] - 2s 4us/step - loss: 0.4673 - acc: 0.7548 - val_loss: 0.4793 - val_acc: 0.7510\n",
      "Epoch 203/250\n",
      "434059/434059 [==============================] - 2s 4us/step - loss: 0.4667 - acc: 0.7554 - val_loss: 0.4773 - val_acc: 0.7521\n",
      "Epoch 204/250\n",
      "434059/434059 [==============================] - 2s 5us/step - loss: 0.4667 - acc: 0.7558 - val_loss: 0.4771 - val_acc: 0.7522\n",
      "Epoch 205/250\n",
      "434059/434059 [==============================] - 2s 4us/step - loss: 0.4666 - acc: 0.7560 - val_loss: 0.4786 - val_acc: 0.7515\n",
      "Epoch 206/250\n",
      "434059/434059 [==============================] - 2s 4us/step - loss: 0.4665 - acc: 0.7557 - val_loss: 0.4782 - val_acc: 0.7512\n",
      "Epoch 207/250\n",
      "434059/434059 [==============================] - 2s 5us/step - loss: 0.4670 - acc: 0.7553 - val_loss: 0.4766 - val_acc: 0.7520\n",
      "Epoch 208/250\n",
      "434059/434059 [==============================] - 2s 5us/step - loss: 0.4667 - acc: 0.7552 - val_loss: 0.4783 - val_acc: 0.7512\n",
      "Epoch 209/250\n",
      "434059/434059 [==============================] - 2s 4us/step - loss: 0.4661 - acc: 0.7562 - val_loss: 0.4780 - val_acc: 0.7512\n",
      "Epoch 210/250\n",
      "434059/434059 [==============================] - 2s 5us/step - loss: 0.4662 - acc: 0.7557 - val_loss: 0.4779 - val_acc: 0.7513\n",
      "Epoch 211/250\n",
      "434059/434059 [==============================] - 2s 5us/step - loss: 0.4664 - acc: 0.7558 - val_loss: 0.4776 - val_acc: 0.7519\n",
      "Epoch 212/250\n",
      "434059/434059 [==============================] - 2s 5us/step - loss: 0.4667 - acc: 0.7553 - val_loss: 0.4774 - val_acc: 0.7521\n",
      "Epoch 213/250\n",
      "434059/434059 [==============================] - 2s 5us/step - loss: 0.4667 - acc: 0.7556 - val_loss: 0.4773 - val_acc: 0.7525\n",
      "Epoch 214/250\n",
      "434059/434059 [==============================] - 2s 4us/step - loss: 0.4659 - acc: 0.7557 - val_loss: 0.4773 - val_acc: 0.7513\n",
      "Epoch 215/250\n",
      "434059/434059 [==============================] - 2s 4us/step - loss: 0.4664 - acc: 0.7557 - val_loss: 0.4771 - val_acc: 0.7513\n",
      "Epoch 216/250\n",
      "434059/434059 [==============================] - 2s 4us/step - loss: 0.4662 - acc: 0.7561 - val_loss: 0.4782 - val_acc: 0.7510\n",
      "Epoch 217/250\n",
      "434059/434059 [==============================] - 2s 4us/step - loss: 0.4663 - acc: 0.7554 - val_loss: 0.4773 - val_acc: 0.7518\n",
      "Epoch 218/250\n",
      "434059/434059 [==============================] - 2s 4us/step - loss: 0.4659 - acc: 0.7560 - val_loss: 0.4783 - val_acc: 0.7513\n",
      "Epoch 219/250\n",
      "434059/434059 [==============================] - 2s 4us/step - loss: 0.4661 - acc: 0.7557 - val_loss: 0.4775 - val_acc: 0.7520\n",
      "Epoch 220/250\n",
      "434059/434059 [==============================] - 2s 4us/step - loss: 0.4654 - acc: 0.7557 - val_loss: 0.4785 - val_acc: 0.7516\n",
      "Epoch 221/250\n",
      "434059/434059 [==============================] - 2s 4us/step - loss: 0.4665 - acc: 0.7559 - val_loss: 0.4786 - val_acc: 0.7517\n",
      "Epoch 222/250\n",
      "434059/434059 [==============================] - 2s 4us/step - loss: 0.4657 - acc: 0.7556 - val_loss: 0.4783 - val_acc: 0.7520\n",
      "Epoch 223/250\n",
      "434059/434059 [==============================] - 2s 4us/step - loss: 0.4655 - acc: 0.7560 - val_loss: 0.4783 - val_acc: 0.7519\n",
      "Epoch 224/250\n",
      "434059/434059 [==============================] - 2s 4us/step - loss: 0.4661 - acc: 0.7556 - val_loss: 0.4777 - val_acc: 0.7517\n",
      "Epoch 225/250\n",
      "434059/434059 [==============================] - 2s 4us/step - loss: 0.4659 - acc: 0.7557 - val_loss: 0.4768 - val_acc: 0.7524\n",
      "Epoch 226/250\n",
      "434059/434059 [==============================] - 2s 4us/step - loss: 0.4659 - acc: 0.7555 - val_loss: 0.4771 - val_acc: 0.7527\n",
      "Epoch 227/250\n",
      "434059/434059 [==============================] - 2s 5us/step - loss: 0.4654 - acc: 0.7555 - val_loss: 0.4770 - val_acc: 0.7520\n",
      "Epoch 228/250\n",
      "434059/434059 [==============================] - 2s 4us/step - loss: 0.4653 - acc: 0.7562 - val_loss: 0.4767 - val_acc: 0.7523\n",
      "Epoch 229/250\n",
      "434059/434059 [==============================] - 2s 4us/step - loss: 0.4658 - acc: 0.7555 - val_loss: 0.4767 - val_acc: 0.7525\n",
      "Epoch 230/250\n",
      "434059/434059 [==============================] - 2s 4us/step - loss: 0.4653 - acc: 0.7560 - val_loss: 0.4764 - val_acc: 0.7530\n",
      "Epoch 231/250\n",
      "434059/434059 [==============================] - 2s 4us/step - loss: 0.4653 - acc: 0.7557 - val_loss: 0.4767 - val_acc: 0.7522\n",
      "Epoch 232/250\n",
      "434059/434059 [==============================] - 2s 4us/step - loss: 0.4649 - acc: 0.7560 - val_loss: 0.4774 - val_acc: 0.7519\n",
      "Epoch 233/250\n",
      "434059/434059 [==============================] - 2s 4us/step - loss: 0.4656 - acc: 0.7560 - val_loss: 0.4777 - val_acc: 0.7520\n",
      "Epoch 234/250\n"
     ]
    },
    {
     "name": "stdout",
     "output_type": "stream",
     "text": [
      "434059/434059 [==============================] - 2s 4us/step - loss: 0.4649 - acc: 0.7562 - val_loss: 0.4772 - val_acc: 0.7525\n",
      "Epoch 235/250\n",
      "434059/434059 [==============================] - 2s 4us/step - loss: 0.4653 - acc: 0.7561 - val_loss: 0.4761 - val_acc: 0.7520\n",
      "Epoch 236/250\n",
      "434059/434059 [==============================] - 2s 4us/step - loss: 0.4655 - acc: 0.7560 - val_loss: 0.4782 - val_acc: 0.7523\n",
      "Epoch 237/250\n",
      "434059/434059 [==============================] - 2s 4us/step - loss: 0.4655 - acc: 0.7559 - val_loss: 0.4776 - val_acc: 0.7518\n",
      "Epoch 238/250\n",
      "434059/434059 [==============================] - 2s 4us/step - loss: 0.4653 - acc: 0.7560 - val_loss: 0.4769 - val_acc: 0.7520\n",
      "Epoch 239/250\n",
      "434059/434059 [==============================] - 2s 5us/step - loss: 0.4659 - acc: 0.7558 - val_loss: 0.4788 - val_acc: 0.7515\n",
      "Epoch 240/250\n",
      "434059/434059 [==============================] - 2s 5us/step - loss: 0.4651 - acc: 0.7563 - val_loss: 0.4763 - val_acc: 0.7526\n",
      "Epoch 241/250\n",
      "434059/434059 [==============================] - 2s 4us/step - loss: 0.4651 - acc: 0.7557 - val_loss: 0.4779 - val_acc: 0.7514\n",
      "Epoch 242/250\n",
      "434059/434059 [==============================] - 2s 5us/step - loss: 0.4647 - acc: 0.7562 - val_loss: 0.4777 - val_acc: 0.7517\n",
      "Epoch 243/250\n",
      "434059/434059 [==============================] - 2s 4us/step - loss: 0.4648 - acc: 0.7564 - val_loss: 0.4760 - val_acc: 0.7519\n",
      "Epoch 244/250\n",
      "434059/434059 [==============================] - 2s 4us/step - loss: 0.4652 - acc: 0.7560 - val_loss: 0.4769 - val_acc: 0.7522\n",
      "Epoch 245/250\n",
      "434059/434059 [==============================] - 2s 5us/step - loss: 0.4647 - acc: 0.7559 - val_loss: 0.4775 - val_acc: 0.7521\n",
      "Epoch 246/250\n",
      "434059/434059 [==============================] - 2s 4us/step - loss: 0.4645 - acc: 0.7565 - val_loss: 0.4767 - val_acc: 0.7519\n",
      "Epoch 247/250\n",
      "434059/434059 [==============================] - 2s 5us/step - loss: 0.4646 - acc: 0.7563 - val_loss: 0.4780 - val_acc: 0.7519\n",
      "Epoch 248/250\n",
      "434059/434059 [==============================] - 2s 4us/step - loss: 0.4647 - acc: 0.7563 - val_loss: 0.4768 - val_acc: 0.7519\n",
      "Epoch 249/250\n",
      "434059/434059 [==============================] - 2s 4us/step - loss: 0.4645 - acc: 0.7564 - val_loss: 0.4765 - val_acc: 0.7521\n",
      "Epoch 250/250\n",
      "434059/434059 [==============================] - 2s 5us/step - loss: 0.4648 - acc: 0.7563 - val_loss: 0.4769 - val_acc: 0.7518\n"
     ]
    }
   ],
   "source": [
    "from keras.models import Sequential\n",
    "from keras.layers import Dense, Dropout\n",
    "from keras.callbacks import EarlyStopping\n",
    "\n",
    "y = pd.get_dummies(y)\n",
    "Xtrain, Xtest, ytrain, ytest = train_test_split(X, y, test_size=0.2, random_state=21)\n",
    "\n",
    "def ANN_model():\n",
    "    model = Sequential()\n",
    "    model.add(Dense(1024, activation='relu', input_dim=Xtrain.shape[1]))\n",
    "    model.add(Dropout(0.2))\n",
    "    model.add(Dense(256, activation='relu'))\n",
    "    model.add(Dropout(0.2))\n",
    "    model.add(Dense(64, activation='relu'))\n",
    "    model.add(Dropout(0.2))\n",
    "    model.add(Dense(16, activation='relu'))\n",
    "    model.add(Dropout(0.2))\n",
    "    model.add(Dense(2, activation='softmax'))\n",
    "    model.compile(optimizer='adam', loss='categorical_crossentropy', metrics=['accuracy'])\n",
    "\n",
    "    return model\n",
    "\n",
    "ANN = ANN_model()\n",
    "\n",
    "early_stop = [EarlyStopping(monitor='categorical_crossentropy', min_delta=0, patience=3, verbose=1, mode='auto')]\n",
    "\n",
    "# ANN\n",
    "history = ANN.fit(Xtrain, ytrain, validation_data=(Xtest, ytest), epochs=250, batch_size=10000, callbacks=early_stop)"
   ]
  },
  {
   "cell_type": "code",
   "execution_count": 24,
   "metadata": {},
   "outputs": [
    {
     "data": {
      "image/png": "[encoded data removed]",
      "text/plain": [
       "<Figure size 432x288 with 1 Axes>"
      ]
     },
     "metadata": {},
     "output_type": "display_data"
    }
   ],
   "source": [
    "%matplotlib inline\n",
    "import matplotlib.pyplot as plt\n",
    "# summarize history for accuracy\n",
    "plt.plot(history.history['acc'])\n",
    "plt.plot(history.history['val_acc'])\n",
    "plt.title('model accuracy')\n",
    "plt.ylabel('accuracy')\n",
    "plt.xlabel('epoch')\n",
    "plt.legend(['train', 'test'], loc='upper left')\n",
    "plt.show()"
   ]
  },
  {
   "cell_type": "code",
   "execution_count": 25,
   "metadata": {},
   "outputs": [
    {
     "data": {
      "image/png": "[encoded data removed]",
      "text/plain": [
       "<Figure size 432x288 with 1 Axes>"
      ]
     },
     "metadata": {},
     "output_type": "display_data"
    }
   ],
   "source": [
    "# summarize history for loss\n",
    "plt.plot(history.history['loss'])\n",
    "plt.plot(history.history['val_loss'])\n",
    "plt.title('model loss')\n",
    "plt.ylabel('loss')\n",
    "plt.xlabel('epoch')\n",
    "plt.legend(['train', 'test'], loc='upper left')\n",
    "plt.show()"
   ]
  }
 ],
 "metadata": {
  "colab": {
   "collapsed_sections": [],
   "name": "Capstone2_model_building.ipynb",
   "provenance": [],
   "version": "0.3.2"
  },
  "kernelspec": {
   "display_name": "Python 3",
   "language": "python",
   "name": "python3"
  },
  "language_info": {
   "codemirror_mode": {
    "name": "ipython",
    "version": 3
   },
   "file_extension": ".py",
   "mimetype": "text/x-python",
   "name": "python",
   "nbconvert_exporter": "python",
   "pygments_lexer": "ipython3",
   "version": "3.6.5"
  }
 },
 "nbformat": 4,
 "nbformat_minor": 1
}
